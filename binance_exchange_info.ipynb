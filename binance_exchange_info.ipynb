{
 "cells": [
  {
   "cell_type": "code",
   "execution_count": 12,
   "metadata": {},
   "outputs": [
    {
     "name": "stdout",
     "output_type": "stream",
     "text": [
      "The autoreload extension is already loaded. To reload it, use:\n",
      "  %reload_ext autoreload\n"
     ]
    }
   ],
   "source": [
    "from BinanceExchangeSettings import BinanceTokenSettings\n",
    " \n",
    "\n",
    "%load_ext autoreload\n",
    "%autoreload 2"
   ]
  },
  {
   "cell_type": "code",
   "execution_count": 13,
   "metadata": {},
   "outputs": [
    {
     "name": "stdout",
     "output_type": "stream",
     "text": [
      "Symbol SHIBUSDT not found in exchange information.\n",
      "BinanceTokenSettings({\n",
      "    \"symbol\": \"SHIBUSDT\",\n",
      "    \"asset_tick_step\": 0,\n",
      "    \"leverage_mode\": 1,\n",
      "    \"leverage_tick_step\": 2,\n",
      "    \"limit_fee_pct\": 0.0003,\n",
      "    \"market_fee_pct\": 0.0006,\n",
      "    \"max_asset_size\": 100.0,\n",
      "    \"max_leverage\": 150.0,\n",
      "    \"min_asset_size\": 0.001,\n",
      "    \"min_leverage\": 1.0,\n",
      "    \"mmr_pct\": 0.004,\n",
      "    \"position_mode\": 3,\n",
      "    \"price_tick_step\": 0\n",
      "})\n"
     ]
    }
   ],
   "source": [
    "symbol_settings = BinanceTokenSettings('SHIBUSDT')\n",
    "print(symbol_settings)\n"
   ]
  }
 ],
 "metadata": {
  "kernelspec": {
   "display_name": "env",
   "language": "python",
   "name": "python3"
  },
  "language_info": {
   "codemirror_mode": {
    "name": "ipython",
    "version": 3
   },
   "file_extension": ".py",
   "mimetype": "text/x-python",
   "name": "python",
   "nbconvert_exporter": "python",
   "pygments_lexer": "ipython3",
   "version": "3.10.0"
  }
 },
 "nbformat": 4,
 "nbformat_minor": 2
}
